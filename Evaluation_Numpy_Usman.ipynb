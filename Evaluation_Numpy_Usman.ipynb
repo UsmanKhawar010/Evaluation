{
  "cells": [
    {
      "cell_type": "code",
      "execution_count": 27,
      "metadata": {
        "id": "qcgRY_yX7sWa"
      },
      "outputs": [],
      "source": [
        "import keras\n",
        "import random\n",
        "import collections\n",
        "import numpy as np\n",
        "import matplotlib.pyplot as plt\n",
        "import tensorflow as tf\n",
        "import keras\n",
        "import random\n",
        "import collections\n",
        "import numpy as np\n",
        "import matplotlib.pyplot as plt"
      ]
    },
    {
      "cell_type": "code",
      "execution_count": 30,
      "metadata": {
        "id": "6FFExF4M7tFk"
      },
      "outputs": [],
      "source": [
        "dataset = keras.datasets.mnist.load_data()"
      ]
    },
    {
      "cell_type": "code",
      "execution_count": 33,
      "metadata": {
        "id": "B3-eQ8MhAvhN"
      },
      "outputs": [],
      "source": [
        "def display_random_images_with_labels(d, n=10):\n",
        "    \"\"\"\n",
        "        accept dataset in tuple form, first index\n",
        "        is np arrays (images) and second is labels\n",
        "        and display n random images with labels\n",
        "        from it\n",
        "        Inputs:\n",
        "            d (tuple): dataset images, dataset labels on same indexs\n",
        "            n (int): number of samples to display (default: 10)\n",
        "        Output:\n",
        "            None\n",
        "    \"\"\"\n",
        "    choices = list(range(len(d[0])))\n",
        "    for i in range(n):\n",
        "        index = random.choice(choices)\n",
        "        choices.remove(index)\n",
        "        print(\"index:\",index)\n",
        "        print(\"Lable:\",d[1][index])\n",
        "        plt.imshow(d[0][index], cmap='gray')\n",
        "        plt.show()"
      ]
    },
    {
      "cell_type": "code",
      "execution_count": null,
      "metadata": {
        "id": "IoNOWc2s9v7c"
      },
      "outputs": [],
      "source": [
        "print(\"There are\",len(dataset[0][0]),\"images in training dataset\")\n",
        "\n",
        "\n",
        "print(\"There are\",len(dataset[0][1]),\"images in training dataset\")\n",
        "\n",
        "print(\"___________________\")\n",
        "\n",
        "\n",
        "print(dataset[0][0][0].shape)\n",
        "\n",
        "print(\"___________________\")\n",
        "\n",
        "display_random_images_with_labels(dataset[0])\n",
        "\n",
        "\n",
        "print(\"___________________\")"
      ]
    },
    {
      "cell_type": "code",
      "execution_count": 35,
      "metadata": {
        "colab": {
          "base_uri": "https://localhost:8080/",
          "height": 434
        },
        "id": "iW4SlPGu6f0I",
        "outputId": "d82b53a8-6dbd-4e0b-a7d9-8b4244d80e03"
      },
      "outputs": [
        {
          "name": "stdout",
          "output_type": "stream",
          "text": [
            "There are 10 unique classes in training dataset\n",
            "Breakdown of each labels is below (format: dict key is label, dict value is occurrence of that label/ number of images for that label)\n"
          ]
        },
        {
          "data": {
            "text/plain": [
              "Counter({5: 5421,\n",
              "         0: 5923,\n",
              "         4: 5842,\n",
              "         1: 6742,\n",
              "         9: 5949,\n",
              "         2: 5958,\n",
              "         3: 6131,\n",
              "         6: 5918,\n",
              "         7: 6265,\n",
              "         8: 5851})"
            ]
          },
          "metadata": {},
          "output_type": "display_data"
        },
        {
          "name": "stdout",
          "output_type": "stream",
          "text": [
            "There are 10 unique classes in validation dataset\n",
            "Breakdown of each labels is below (format: dict key is label, dict value is occurrence of that label/ number of images for that label)\n"
          ]
        },
        {
          "data": {
            "text/plain": [
              "Counter({7: 1028,\n",
              "         2: 1032,\n",
              "         1: 1135,\n",
              "         0: 980,\n",
              "         4: 982,\n",
              "         9: 1009,\n",
              "         5: 892,\n",
              "         6: 958,\n",
              "         3: 1010,\n",
              "         8: 974})"
            ]
          },
          "metadata": {},
          "output_type": "display_data"
        }
      ],
      "source": [
        "print(\"There are\", len(set(dataset[0][1])),\"unique classes in training dataset\")\n",
        "\n",
        "\n",
        "print(\"Breakdown of each labels is below (format: dict key is label, dict value is occurrence of that label/ number of images for that label)\")\n",
        "\n",
        "\n",
        "display(collections.Counter(dataset[0][1]))\n",
        "\n",
        "\n",
        "print(\"There are\", len(set(dataset[1][1])),\"unique classes in validation dataset\")\n",
        "\n",
        "\n",
        "print(\"Breakdown of each labels is below (format: dict key is label, dict value is occurrence of that label/ number of images for that label)\")\n",
        "\n",
        "\n",
        "display(collections.Counter(dataset[1][1]))"
      ]
    },
    {
      "cell_type": "code",
      "execution_count": 58,
      "metadata": {
        "colab": {
          "base_uri": "https://localhost:8080/"
        },
        "id": "LfEQF7mrEkoH",
        "outputId": "1ea5deba-6865-4959-ac62-1addf88f7f86"
      },
      "outputs": [
        {
          "name": "stdout",
          "output_type": "stream",
          "text": [
            "Reduced training dataset size: 6000 images\n",
            "Reduced testing dataset size: 1000 images\n",
            "Reduced Training Dataset - Number of images per class:\n",
            "Class 0 : 600 images\n",
            "Class 1 : 600 images\n",
            "Class 2 : 600 images\n",
            "Class 3 : 600 images\n",
            "Class 4 : 600 images\n",
            "Class 5 : 600 images\n",
            "Class 6 : 600 images\n",
            "Class 7 : 600 images\n",
            "Class 8 : 600 images\n",
            "Class 9 : 600 images\n",
            "Reduced Testing Dataset - Number of images per class:\n",
            "Class 0 : 100 images\n",
            "Class 1 : 100 images\n",
            "Class 2 : 100 images\n",
            "Class 3 : 100 images\n",
            "Class 4 : 100 images\n",
            "Class 5 : 100 images\n",
            "Class 6 : 100 images\n",
            "Class 7 : 100 images\n",
            "Class 8 : 100 images\n",
            "Class 9 : 100 images\n"
          ]
        }
      ],
      "source": [
        "(train_images, train_labels), (test_images, test_labels) = dataset\n",
        "\n",
        "# Function to reduce dataset size by 10 times using np.random.choice\n",
        "target_train = 600\n",
        "target_test = 100\n",
        "def reduce_dataset_size(images, labels, target_size):\n",
        "    class_indices = [np.where(labels == label)[0] for label in range(10)]\n",
        "    selected_indices = [np.random.choice(indices, size=target_size, replace=False) for indices in class_indices]\n",
        "    selected_indices = np.concatenate(selected_indices)\n",
        "    reduced_images = images[selected_indices]\n",
        "    reduced_labels = labels[selected_indices]\n",
        "    return reduced_images, reduced_labels\n",
        "\n",
        "# Reduce the size of the training dataset\n",
        "target_train_size = 600\n",
        "target_test_size  = 100\n",
        "\n",
        "# Reduce the size of the training dataset\n",
        "reduced_train_images, reduced_train_labels = reduce_dataset_size(train_images, train_labels, target_train_size)\n",
        "print(\"Reduced training dataset size:\", len(reduced_train_images), \"images\")\n",
        "\n",
        "# Reduce the size of the testing dataset (using the previous function)\n",
        "reduced_test_images, reduced_test_labels = reduce_dataset_size(test_images, test_labels, target_test_size)\n",
        "print(\"Reduced testing dataset size:\", len(reduced_test_images), \"images\")\n",
        "\n",
        "# Function to count the number of images for each class\n",
        "def count_images_per_class(labels):\n",
        "    class_counts = np.zeros(10, dtype=int)\n",
        "    for label in labels:\n",
        "        class_counts[label] += 1\n",
        "    return class_counts\n",
        "\n",
        "# Count the number of images for each class in the reduced training dataset\n",
        "reduced_train_class_counts = count_images_per_class(reduced_train_labels)\n",
        "print(\"Reduced Training Dataset - Number of images per class:\")\n",
        "for class_label, count in enumerate(reduced_train_class_counts):\n",
        "    print(\"Class\", class_label, \":\", count, \"images\")\n",
        "\n",
        "# Count the number of images for each class in the reduced testing dataset\n",
        "reduced_test_class_counts = count_images_per_class(reduced_test_labels)\n",
        "print(\"Reduced Testing Dataset - Number of images per class:\")\n",
        "for class_label, count in enumerate(reduced_test_class_counts):\n",
        "    print(\"Class\", class_label, \":\", count, \"images\")"
      ]
    },
    {
      "cell_type": "code",
      "execution_count": 59,
      "metadata": {
        "colab": {
          "base_uri": "https://localhost:8080/"
        },
        "id": "B3W-6DpXJohY",
        "outputId": "8000af4a-c780-48e2-d967-9257109e6a98"
      },
      "outputs": [
        {
          "name": "stdout",
          "output_type": "stream",
          "text": [
            "___________________\n",
            "There are 6000 labels in training dataset for 6000 images in training dataset\n",
            "There are 1000 labels in training dataset for 1000 images in training dataset\n",
            "___________________\n"
          ]
        }
      ],
      "source": [
        "print(\"___________________\")\n",
        "\n",
        "\n",
        "print(\"There are\",len(reduced_train_labels),\"labels in training dataset for\",len(reduced_train_images),\"images in training dataset\")\n",
        "\n",
        "\n",
        "print(\"There are\",len(reduced_test_labels),\"labels in training dataset for\",len(reduced_test_images),\"images in training dataset\")\n",
        "\n",
        "\n",
        "print(\"___________________\")"
      ]
    },
    {
      "cell_type": "code",
      "execution_count": null,
      "metadata": {
        "id": "Sd1sZwdNKrYL"
      },
      "outputs": [],
      "source": []
    }
  ],
  "metadata": {
    "colab": {
      "provenance": []
    },
    "kernelspec": {
      "display_name": "Python 3",
      "name": "python3"
    },
    "language_info": {
      "name": "python"
    }
  },
  "nbformat": 4,
  "nbformat_minor": 0
}
