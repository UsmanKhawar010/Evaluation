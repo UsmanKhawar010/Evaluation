{
  "nbformat": 4,
  "nbformat_minor": 0,
  "metadata": {
    "colab": {
      "provenance": []
    },
    "kernelspec": {
      "name": "python3",
      "display_name": "Python 3"
    },
    "language_info": {
      "name": "python"
    }
  },
  "cells": [
    {
      "cell_type": "code",
      "source": [
        "import keras\n",
        "import random\n",
        "import collections\n",
        "import numpy as np\n",
        "import matplotlib.pyplot as plt\n",
        "import tensorflow as tf\n",
        "import keras\n",
        "import random\n",
        "import collections\n",
        "import numpy as np\n",
        "import matplotlib.pyplot as plt"
      ],
      "metadata": {
        "id": "qcgRY_yX7sWa"
      },
      "execution_count": 27,
      "outputs": []
    },
    {
      "cell_type": "code",
      "source": [
        "dataset = keras.datasets.mnist.load_data()"
      ],
      "metadata": {
        "id": "6FFExF4M7tFk"
      },
      "execution_count": 30,
      "outputs": []
    },
    {
      "cell_type": "code",
      "source": [
        "def display_random_images_with_labels(d, n=10):\n",
        "    \"\"\"\n",
        "        accept dataset in tuple form, first index\n",
        "        is np arrays (images) and second is labels\n",
        "        and display n random images with labels\n",
        "        from it\n",
        "        Inputs:\n",
        "            d (tuple): dataset images, dataset labels on same indexs\n",
        "            n (int): number of samples to display (default: 10)\n",
        "        Output:\n",
        "            None\n",
        "    \"\"\"\n",
        "    choices = list(range(len(d[0])))\n",
        "    for i in range(n):\n",
        "        index = random.choice(choices)\n",
        "        choices.remove(index)\n",
        "        print(\"index:\",index)\n",
        "        print(\"Lable:\",d[1][index])\n",
        "        plt.imshow(d[0][index], cmap='gray')\n",
        "        plt.show()"
      ],
      "metadata": {
        "id": "B3-eQ8MhAvhN"
      },
      "execution_count": 33,
      "outputs": []
    },
    {
      "cell_type": "code",
      "source": [
        "print(\"There are\",len(dataset[0][0]),\"images in training dataset\")\n",
        "\n",
        "\n",
        "print(\"There are\",len(dataset[0][1]),\"images in training dataset\")\n",
        "\n",
        "print(\"___________________\")\n",
        "\n",
        "\n",
        "print(dataset[0][0][0].shape)\n",
        "\n",
        "print(\"___________________\")\n",
        "\n",
        "display_random_images_with_labels(dataset[0])\n",
        "\n",
        "\n",
        "print(\"___________________\")"
      ],
      "metadata": {
        "id": "IoNOWc2s9v7c"
      },
      "execution_count": null,
      "outputs": []
    },
    {
      "cell_type": "code",
      "execution_count": 35,
      "metadata": {
        "colab": {
          "base_uri": "https://localhost:8080/",
          "height": 434
        },
        "id": "iW4SlPGu6f0I",
        "outputId": "d82b53a8-6dbd-4e0b-a7d9-8b4244d80e03"
      },
      "outputs": [
        {
          "output_type": "stream",
          "name": "stdout",
          "text": [
            "There are 10 unique classes in training dataset\n",
            "Breakdown of each labels is below (format: dict key is label, dict value is occurrence of that label/ number of images for that label)\n"
          ]
        },
        {
          "output_type": "display_data",
          "data": {
            "text/plain": [
              "Counter({5: 5421,\n",
              "         0: 5923,\n",
              "         4: 5842,\n",
              "         1: 6742,\n",
              "         9: 5949,\n",
              "         2: 5958,\n",
              "         3: 6131,\n",
              "         6: 5918,\n",
              "         7: 6265,\n",
              "         8: 5851})"
            ]
          },
          "metadata": {}
        },
        {
          "output_type": "stream",
          "name": "stdout",
          "text": [
            "There are 10 unique classes in validation dataset\n",
            "Breakdown of each labels is below (format: dict key is label, dict value is occurrence of that label/ number of images for that label)\n"
          ]
        },
        {
          "output_type": "display_data",
          "data": {
            "text/plain": [
              "Counter({7: 1028,\n",
              "         2: 1032,\n",
              "         1: 1135,\n",
              "         0: 980,\n",
              "         4: 982,\n",
              "         9: 1009,\n",
              "         5: 892,\n",
              "         6: 958,\n",
              "         3: 1010,\n",
              "         8: 974})"
            ]
          },
          "metadata": {}
        }
      ],
      "source": [
        "print(\"There are\", len(set(dataset[0][1])),\"unique classes in training dataset\")\n",
        "\n",
        "\n",
        "print(\"Breakdown of each labels is below (format: dict key is label, dict value is occurrence of that label/ number of images for that label)\")\n",
        "\n",
        "\n",
        "display(collections.Counter(dataset[0][1]))\n",
        "\n",
        "\n",
        "print(\"There are\", len(set(dataset[1][1])),\"unique classes in validation dataset\")\n",
        "\n",
        "\n",
        "print(\"Breakdown of each labels is below (format: dict key is label, dict value is occurrence of that label/ number of images for that label)\")\n",
        "\n",
        "\n",
        "display(collections.Counter(dataset[1][1]))"
      ]
    },
    {
      "cell_type": "code",
      "source": [
        "import numpy as np\n",
        "from tensorflow import keras\n",
        "\n",
        "# Load the MNIST dataset\n",
        "dataset = keras.datasets.mnist.load_data()\n",
        "\n",
        "# Split the dataset into training and testing sets\n",
        "(train_images, train_labels), (test_images, test_labels) = dataset\n",
        "\n",
        "# Function to reduce dataset size by 10 times using np.random.choice\n",
        "def reduce_dataset_size(images, labels):\n",
        "    num_images = len(images)\n",
        "    reduced_size = num_images // 10\n",
        "    indices = np.arange(num_images)\n",
        "    selected_indices = np.random.choice(indices, size=reduced_size, replace=False)\n",
        "    reduced_images = images[selected_indices]\n",
        "    reduced_labels = labels[selected_indices]\n",
        "    return reduced_images, reduced_labels\n",
        "\n",
        "# Reduce the size of the training dataset\n",
        "reduced_train_images, reduced_train_labels = reduce_dataset_size(train_images, train_labels)\n",
        "print(\"Reduced training dataset size:\", len(reduced_train_images), \"images\")\n",
        "\n",
        "# Reduce the size of the testing dataset\n",
        "reduced_test_images, reduced_test_labels = reduce_dataset_size(test_images, test_labels)\n",
        "print(\"Reduced testing dataset size:\", len(reduced_test_images), \"images\")\n"
      ],
      "metadata": {
        "colab": {
          "base_uri": "https://localhost:8080/"
        },
        "id": "LfEQF7mrEkoH",
        "outputId": "f0878435-9374-4166-9753-86c40c3b5214"
      },
      "execution_count": 50,
      "outputs": [
        {
          "output_type": "stream",
          "name": "stdout",
          "text": [
            "Reduced training dataset size: 6000 images\n",
            "Reduced testing dataset size: 1000 images\n"
          ]
        }
      ]
    },
    {
      "cell_type": "code",
      "source": [
        "print(\"___________________\")\n",
        "\n",
        "\n",
        "print(\"There are\",len(train_labels),\"labels in training dataset for\",len(train_images),\"images in training dataset\")\n",
        "\n",
        "\n",
        "print(\"There are\",len(test_labels),\"labels in training dataset for\",len(test_images),\"images in training dataset\")\n",
        "\n",
        "\n",
        "print(\"___________________\")"
      ],
      "metadata": {
        "colab": {
          "base_uri": "https://localhost:8080/"
        },
        "id": "B3W-6DpXJohY",
        "outputId": "4dba83f6-d2c3-4373-db45-038b06ae0c0c"
      },
      "execution_count": 52,
      "outputs": [
        {
          "output_type": "stream",
          "name": "stdout",
          "text": [
            "___________________\n",
            "There are 60000 labels in training dataset for 60000 images in training dataset\n",
            "There are 10000 labels in training dataset for 10000 images in training dataset\n",
            "___________________\n"
          ]
        }
      ]
    }
  ]
}