{
  "cells": [
    {
      "cell_type": "markdown",
      "metadata": {
        "id": "tvBbbUwWuW9S"
      },
      "source": [
        "# Perform the following analysis on the provided file \"demo.csv\".\n",
        "\n",
        "\n",
        "## 1. Which month saw the highest joining of the employees\n",
        "\n",
        "   function name: max_joinings_month()\n",
        "   \n",
        "   inputs: DataFrame\n",
        "\n",
        "   outputs: str\n",
        "   \n",
        "   \n",
        "## 2. What is the mean salary is the state KS\n",
        "\n",
        "   function name: mean_ks_salary()\n",
        "   \n",
        "   inputs: DataFrame\n",
        "\n",
        "   outputs: float\n",
        "   \n",
        "   \n",
        "## 3. Which Region has highest mean salary\n",
        "\n",
        "   function name: max_mean_salary_region()\n",
        "\n",
        "   inputs: DataFrame\n",
        "\n",
        "   outputs: str\n",
        "   \n",
        "   \n",
        "## 4. Which region has lowest mean salary\n",
        "\n",
        "   function name: min_mean_salary_region()\n",
        "\n",
        "   inputs: DataFrame\n",
        "\n",
        "   outputs: str\n",
        "   \n",
        "   \n",
        "## 5. Which City has highest mean weight\n",
        "\n",
        "   function name: max_mean_weight_city()\n",
        "\n",
        "   inputs: DataFrame\n",
        "\n",
        "   outputs: str\n",
        "   \n",
        "   \n",
        "## 6. What is the difference between mean salary of Doctors and Professors\n",
        "\n",
        "   function name: dr_prof_mean_salary_diff()\n",
        "\n",
        "   inputs: DataFrame\n",
        "\n",
        "   outputs: float\n",
        "   \n",
        "   \n",
        "## 7. How many female use yahoo\n",
        "\n",
        "   function name: females_with_yahoo()\n",
        "\n",
        "   inputs: DataFrame\n",
        "\n",
        "   outputs: int\n",
        "   \n",
        "   \n",
        "## 8. How many Doctors use gmail\n",
        "\n",
        "   function name: doctors_with_gmail()\n",
        "\n",
        "   inputs: DataFrame\n",
        "\n",
        "   outputs: int\n",
        "   \n",
        "   \n",
        "## 9. What is the password of the youngest male\n",
        "\n",
        "   function name: youngest_male_password()\n",
        "\n",
        "   inputs: DataFrame\n",
        "\n",
        "   outputs: str\n"
      ]
    },
    {
      "cell_type": "code",
      "source": [
        "import numpy as np\n",
        "import pandas as pd"
      ],
      "metadata": {
        "id": "rJLdNwztmvQk"
      },
      "execution_count": 2,
      "outputs": []
    },
    {
      "cell_type": "code",
      "execution_count": null,
      "metadata": {
        "id": "5Pos8WYPuW9Y"
      },
      "outputs": [],
      "source": []
    },
    {
      "cell_type": "code",
      "source": [
        "df = pd.read_csv('/content/demo.csv')\n",
        "df.head(2)"
      ],
      "metadata": {
        "id": "ZUN-RGPOvHYw",
        "colab": {
          "base_uri": "https://localhost:8080/",
          "height": 309
        },
        "outputId": "81bd9557-0712-4da9-c9d5-9a95ca9ff99a"
      },
      "execution_count": 4,
      "outputs": [
        {
          "output_type": "execute_result",
          "data": {
            "text/plain": [
              "   Emp ID Name Prefix First Name Middle Initial Last Name Gender  \\\n",
              "0  850297         Ms.     Shawna              W      Buck      F   \n",
              "1  304721         Mr.  Nathaniel              Z     Burke      M   \n",
              "\n",
              "                        E Mail  Father's Name Mother's Name  \\\n",
              "0        shawna.buck@gmail.com   Rosario Buck   Keisha Buck   \n",
              "1  nathaniel.burke@walmart.com  Derrick Burke  Phoebe Burke   \n",
              "\n",
              "  Mother's Maiden Name  ...          SSN    Phone No.   Place Name  County  \\\n",
              "0            Hendricks  ...  222-11-7603  702-771-7149   Las Vegas   Clark   \n",
              "1                 Pugh  ...  550-99-9897  231-765-6923       Irons    Lake   \n",
              "\n",
              "        City State    Zip   Region  User Name         Password  \n",
              "0  Las Vegas    NV  89128     West     swbuck  ja8?k3BTF^]o@<&  \n",
              "1      Irons    MI  49644  Midwest    nzburke   tPA@4Wh9Ja$+Ln  \n",
              "\n",
              "[2 rows x 37 columns]"
            ],
            "text/html": [
              "\n",
              "\n",
              "  <div id=\"df-03983eea-5e04-463b-b047-0da4d70c22f8\">\n",
              "    <div class=\"colab-df-container\">\n",
              "      <div>\n",
              "<style scoped>\n",
              "    .dataframe tbody tr th:only-of-type {\n",
              "        vertical-align: middle;\n",
              "    }\n",
              "\n",
              "    .dataframe tbody tr th {\n",
              "        vertical-align: top;\n",
              "    }\n",
              "\n",
              "    .dataframe thead th {\n",
              "        text-align: right;\n",
              "    }\n",
              "</style>\n",
              "<table border=\"1\" class=\"dataframe\">\n",
              "  <thead>\n",
              "    <tr style=\"text-align: right;\">\n",
              "      <th></th>\n",
              "      <th>Emp ID</th>\n",
              "      <th>Name Prefix</th>\n",
              "      <th>First Name</th>\n",
              "      <th>Middle Initial</th>\n",
              "      <th>Last Name</th>\n",
              "      <th>Gender</th>\n",
              "      <th>E Mail</th>\n",
              "      <th>Father's Name</th>\n",
              "      <th>Mother's Name</th>\n",
              "      <th>Mother's Maiden Name</th>\n",
              "      <th>...</th>\n",
              "      <th>SSN</th>\n",
              "      <th>Phone No.</th>\n",
              "      <th>Place Name</th>\n",
              "      <th>County</th>\n",
              "      <th>City</th>\n",
              "      <th>State</th>\n",
              "      <th>Zip</th>\n",
              "      <th>Region</th>\n",
              "      <th>User Name</th>\n",
              "      <th>Password</th>\n",
              "    </tr>\n",
              "  </thead>\n",
              "  <tbody>\n",
              "    <tr>\n",
              "      <th>0</th>\n",
              "      <td>850297</td>\n",
              "      <td>Ms.</td>\n",
              "      <td>Shawna</td>\n",
              "      <td>W</td>\n",
              "      <td>Buck</td>\n",
              "      <td>F</td>\n",
              "      <td>shawna.buck@gmail.com</td>\n",
              "      <td>Rosario Buck</td>\n",
              "      <td>Keisha Buck</td>\n",
              "      <td>Hendricks</td>\n",
              "      <td>...</td>\n",
              "      <td>222-11-7603</td>\n",
              "      <td>702-771-7149</td>\n",
              "      <td>Las Vegas</td>\n",
              "      <td>Clark</td>\n",
              "      <td>Las Vegas</td>\n",
              "      <td>NV</td>\n",
              "      <td>89128</td>\n",
              "      <td>West</td>\n",
              "      <td>swbuck</td>\n",
              "      <td>ja8?k3BTF^]o@&lt;&amp;</td>\n",
              "    </tr>\n",
              "    <tr>\n",
              "      <th>1</th>\n",
              "      <td>304721</td>\n",
              "      <td>Mr.</td>\n",
              "      <td>Nathaniel</td>\n",
              "      <td>Z</td>\n",
              "      <td>Burke</td>\n",
              "      <td>M</td>\n",
              "      <td>nathaniel.burke@walmart.com</td>\n",
              "      <td>Derrick Burke</td>\n",
              "      <td>Phoebe Burke</td>\n",
              "      <td>Pugh</td>\n",
              "      <td>...</td>\n",
              "      <td>550-99-9897</td>\n",
              "      <td>231-765-6923</td>\n",
              "      <td>Irons</td>\n",
              "      <td>Lake</td>\n",
              "      <td>Irons</td>\n",
              "      <td>MI</td>\n",
              "      <td>49644</td>\n",
              "      <td>Midwest</td>\n",
              "      <td>nzburke</td>\n",
              "      <td>tPA@4Wh9Ja$+Ln</td>\n",
              "    </tr>\n",
              "  </tbody>\n",
              "</table>\n",
              "<p>2 rows × 37 columns</p>\n",
              "</div>\n",
              "      <button class=\"colab-df-convert\" onclick=\"convertToInteractive('df-03983eea-5e04-463b-b047-0da4d70c22f8')\"\n",
              "              title=\"Convert this dataframe to an interactive table.\"\n",
              "              style=\"display:none;\">\n",
              "\n",
              "  <svg xmlns=\"http://www.w3.org/2000/svg\" height=\"24px\"viewBox=\"0 0 24 24\"\n",
              "       width=\"24px\">\n",
              "    <path d=\"M0 0h24v24H0V0z\" fill=\"none\"/>\n",
              "    <path d=\"M18.56 5.44l.94 2.06.94-2.06 2.06-.94-2.06-.94-.94-2.06-.94 2.06-2.06.94zm-11 1L8.5 8.5l.94-2.06 2.06-.94-2.06-.94L8.5 2.5l-.94 2.06-2.06.94zm10 10l.94 2.06.94-2.06 2.06-.94-2.06-.94-.94-2.06-.94 2.06-2.06.94z\"/><path d=\"M17.41 7.96l-1.37-1.37c-.4-.4-.92-.59-1.43-.59-.52 0-1.04.2-1.43.59L10.3 9.45l-7.72 7.72c-.78.78-.78 2.05 0 2.83L4 21.41c.39.39.9.59 1.41.59.51 0 1.02-.2 1.41-.59l7.78-7.78 2.81-2.81c.8-.78.8-2.07 0-2.86zM5.41 20L4 18.59l7.72-7.72 1.47 1.35L5.41 20z\"/>\n",
              "  </svg>\n",
              "      </button>\n",
              "\n",
              "\n",
              "\n",
              "    <div id=\"df-0d35d1fd-ee0d-4dba-991f-9816878d0a40\">\n",
              "      <button class=\"colab-df-quickchart\" onclick=\"quickchart('df-0d35d1fd-ee0d-4dba-991f-9816878d0a40')\"\n",
              "              title=\"Suggest charts.\"\n",
              "              style=\"display:none;\">\n",
              "\n",
              "<svg xmlns=\"http://www.w3.org/2000/svg\" height=\"24px\"viewBox=\"0 0 24 24\"\n",
              "     width=\"24px\">\n",
              "    <g>\n",
              "        <path d=\"M19 3H5c-1.1 0-2 .9-2 2v14c0 1.1.9 2 2 2h14c1.1 0 2-.9 2-2V5c0-1.1-.9-2-2-2zM9 17H7v-7h2v7zm4 0h-2V7h2v10zm4 0h-2v-4h2v4z\"/>\n",
              "    </g>\n",
              "</svg>\n",
              "      </button>\n",
              "    </div>\n",
              "\n",
              "<style>\n",
              "  .colab-df-quickchart {\n",
              "    background-color: #E8F0FE;\n",
              "    border: none;\n",
              "    border-radius: 50%;\n",
              "    cursor: pointer;\n",
              "    display: none;\n",
              "    fill: #1967D2;\n",
              "    height: 32px;\n",
              "    padding: 0 0 0 0;\n",
              "    width: 32px;\n",
              "  }\n",
              "\n",
              "  .colab-df-quickchart:hover {\n",
              "    background-color: #E2EBFA;\n",
              "    box-shadow: 0px 1px 2px rgba(60, 64, 67, 0.3), 0px 1px 3px 1px rgba(60, 64, 67, 0.15);\n",
              "    fill: #174EA6;\n",
              "  }\n",
              "\n",
              "  [theme=dark] .colab-df-quickchart {\n",
              "    background-color: #3B4455;\n",
              "    fill: #D2E3FC;\n",
              "  }\n",
              "\n",
              "  [theme=dark] .colab-df-quickchart:hover {\n",
              "    background-color: #434B5C;\n",
              "    box-shadow: 0px 1px 3px 1px rgba(0, 0, 0, 0.15);\n",
              "    filter: drop-shadow(0px 1px 2px rgba(0, 0, 0, 0.3));\n",
              "    fill: #FFFFFF;\n",
              "  }\n",
              "</style>\n",
              "\n",
              "    <script>\n",
              "      async function quickchart(key) {\n",
              "        const containerElement = document.querySelector('#' + key);\n",
              "        const charts = await google.colab.kernel.invokeFunction(\n",
              "            'suggestCharts', [key], {});\n",
              "      }\n",
              "    </script>\n",
              "\n",
              "      <script>\n",
              "\n",
              "function displayQuickchartButton(domScope) {\n",
              "  let quickchartButtonEl =\n",
              "    domScope.querySelector('#df-0d35d1fd-ee0d-4dba-991f-9816878d0a40 button.colab-df-quickchart');\n",
              "  quickchartButtonEl.style.display =\n",
              "    google.colab.kernel.accessAllowed ? 'block' : 'none';\n",
              "}\n",
              "\n",
              "        displayQuickchartButton(document);\n",
              "      </script>\n",
              "      <style>\n",
              "    .colab-df-container {\n",
              "      display:flex;\n",
              "      flex-wrap:wrap;\n",
              "      gap: 12px;\n",
              "    }\n",
              "\n",
              "    .colab-df-convert {\n",
              "      background-color: #E8F0FE;\n",
              "      border: none;\n",
              "      border-radius: 50%;\n",
              "      cursor: pointer;\n",
              "      display: none;\n",
              "      fill: #1967D2;\n",
              "      height: 32px;\n",
              "      padding: 0 0 0 0;\n",
              "      width: 32px;\n",
              "    }\n",
              "\n",
              "    .colab-df-convert:hover {\n",
              "      background-color: #E2EBFA;\n",
              "      box-shadow: 0px 1px 2px rgba(60, 64, 67, 0.3), 0px 1px 3px 1px rgba(60, 64, 67, 0.15);\n",
              "      fill: #174EA6;\n",
              "    }\n",
              "\n",
              "    [theme=dark] .colab-df-convert {\n",
              "      background-color: #3B4455;\n",
              "      fill: #D2E3FC;\n",
              "    }\n",
              "\n",
              "    [theme=dark] .colab-df-convert:hover {\n",
              "      background-color: #434B5C;\n",
              "      box-shadow: 0px 1px 3px 1px rgba(0, 0, 0, 0.15);\n",
              "      filter: drop-shadow(0px 1px 2px rgba(0, 0, 0, 0.3));\n",
              "      fill: #FFFFFF;\n",
              "    }\n",
              "  </style>\n",
              "\n",
              "      <script>\n",
              "        const buttonEl =\n",
              "          document.querySelector('#df-03983eea-5e04-463b-b047-0da4d70c22f8 button.colab-df-convert');\n",
              "        buttonEl.style.display =\n",
              "          google.colab.kernel.accessAllowed ? 'block' : 'none';\n",
              "\n",
              "        async function convertToInteractive(key) {\n",
              "          const element = document.querySelector('#df-03983eea-5e04-463b-b047-0da4d70c22f8');\n",
              "          const dataTable =\n",
              "            await google.colab.kernel.invokeFunction('convertToInteractive',\n",
              "                                                     [key], {});\n",
              "          if (!dataTable) return;\n",
              "\n",
              "          const docLinkHtml = 'Like what you see? Visit the ' +\n",
              "            '<a target=\"_blank\" href=https://colab.research.google.com/notebooks/data_table.ipynb>data table notebook</a>'\n",
              "            + ' to learn more about interactive tables.';\n",
              "          element.innerHTML = '';\n",
              "          dataTable['output_type'] = 'display_data';\n",
              "          await google.colab.output.renderOutput(dataTable, element);\n",
              "          const docLink = document.createElement('div');\n",
              "          docLink.innerHTML = docLinkHtml;\n",
              "          element.appendChild(docLink);\n",
              "        }\n",
              "      </script>\n",
              "    </div>\n",
              "  </div>\n"
            ]
          },
          "metadata": {},
          "execution_count": 4
        }
      ]
    },
    {
      "cell_type": "code",
      "source": [
        "df.columns"
      ],
      "metadata": {
        "colab": {
          "base_uri": "https://localhost:8080/"
        },
        "id": "5IHWOsEInLhz",
        "outputId": "3e6df34f-2e92-481f-cab9-e035ad3370ec"
      },
      "execution_count": 9,
      "outputs": [
        {
          "output_type": "execute_result",
          "data": {
            "text/plain": [
              "Index(['Emp ID', 'Name Prefix', 'First Name', 'Middle Initial', 'Last Name',\n",
              "       'Gender', 'E Mail', 'Father's Name', 'Mother's Name',\n",
              "       'Mother's Maiden Name', 'Date of Birth', 'Time of Birth', 'Age in Yrs.',\n",
              "       'Weight in Kgs.', 'Date of Joining', 'Quarter of Joining',\n",
              "       'Half of Joining', 'Year of Joining', 'Month of Joining',\n",
              "       'Month Name of Joining', 'Short Month', 'Day of Joining',\n",
              "       'DOW of Joining', 'Short DOW', 'Age in Company (Years)', 'Salary',\n",
              "       'Last % Hike', 'SSN', 'Phone No. ', 'Place Name', 'County', 'City',\n",
              "       'State', 'Zip', 'Region', 'User Name', 'Password'],\n",
              "      dtype='object')"
            ]
          },
          "metadata": {},
          "execution_count": 9
        }
      ]
    },
    {
      "cell_type": "code",
      "source": [
        "df.head().T"
      ],
      "metadata": {
        "colab": {
          "base_uri": "https://localhost:8080/",
          "height": 1000
        },
        "id": "dXe7RA-gn1u7",
        "outputId": "be084e37-33ba-4757-ff6a-4a025952f7c7"
      },
      "execution_count": 12,
      "outputs": [
        {
          "output_type": "execute_result",
          "data": {
            "text/plain": [
              "                                            0                            1  \\\n",
              "Emp ID                                 850297                       304721   \n",
              "Name Prefix                               Ms.                          Mr.   \n",
              "First Name                             Shawna                    Nathaniel   \n",
              "Middle Initial                              W                            Z   \n",
              "Last Name                                Buck                        Burke   \n",
              "Gender                                      F                            M   \n",
              "E Mail                  shawna.buck@gmail.com  nathaniel.burke@walmart.com   \n",
              "Father's Name                    Rosario Buck                Derrick Burke   \n",
              "Mother's Name                     Keisha Buck                 Phoebe Burke   \n",
              "Mother's Maiden Name                Hendricks                         Pugh   \n",
              "Date of Birth                      12/12/1971                   10/31/1993   \n",
              "Time of Birth                     06:34:47 AM                  02:02:38 AM   \n",
              "Age in Yrs.                             45.66                        23.76   \n",
              "Weight in Kgs.                             44                           52   \n",
              "Date of Joining                    12/18/2010                    4/25/2017   \n",
              "Quarter of Joining                         Q4                           Q2   \n",
              "Half of Joining                            H2                           H1   \n",
              "Year of Joining                          2010                         2017   \n",
              "Month of Joining                           12                            4   \n",
              "Month Name of Joining                December                        April   \n",
              "Short Month                               Dec                          Apr   \n",
              "Day of Joining                             18                           25   \n",
              "DOW of Joining                       Saturday                      Tuesday   \n",
              "Short DOW                                 Sat                          Tue   \n",
              "Age in Company (Years)                   6.61                         0.26   \n",
              "Salary                                 119090                       117991   \n",
              "Last % Hike                               17%                          14%   \n",
              "SSN                               222-11-7603                  550-99-9897   \n",
              "Phone No.                        702-771-7149                 231-765-6923   \n",
              "Place Name                          Las Vegas                        Irons   \n",
              "County                                  Clark                         Lake   \n",
              "City                                Las Vegas                        Irons   \n",
              "State                                      NV                           MI   \n",
              "Zip                                     89128                        49644   \n",
              "Region                                   West                      Midwest   \n",
              "User Name                              swbuck                      nzburke   \n",
              "Password                      ja8?k3BTF^]o@<&               tPA@4Wh9Ja$+Ln   \n",
              "\n",
              "                                                 2  \\\n",
              "Emp ID                                      412317   \n",
              "Name Prefix                                   Drs.   \n",
              "First Name                               Elisabeth   \n",
              "Middle Initial                                   W   \n",
              "Last Name                                   Foster   \n",
              "Gender                                           F   \n",
              "E Mail                  elisabeth.foster@gmail.com   \n",
              "Father's Name                         Irwin Foster   \n",
              "Mother's Name                         Janie Foster   \n",
              "Mother's Maiden Name                       Delaney   \n",
              "Date of Birth                           11/26/1994   \n",
              "Time of Birth                          03:48:27 PM   \n",
              "Age in Yrs.                                  22.68   \n",
              "Weight in Kgs.                                  42   \n",
              "Date of Joining                          3/27/2017   \n",
              "Quarter of Joining                              Q1   \n",
              "Half of Joining                                 H1   \n",
              "Year of Joining                               2017   \n",
              "Month of Joining                                 3   \n",
              "Month Name of Joining                        March   \n",
              "Short Month                                    Mar   \n",
              "Day of Joining                                  27   \n",
              "DOW of Joining                              Monday   \n",
              "Short DOW                                      Mon   \n",
              "Age in Company (Years)                        0.34   \n",
              "Salary                                      161045   \n",
              "Last % Hike                                    28%   \n",
              "SSN                                    215-91-0004   \n",
              "Phone No.                             270-749-4774   \n",
              "Place Name                               Lexington   \n",
              "County                                     Fayette   \n",
              "City                                     Lexington   \n",
              "State                                           KY   \n",
              "Zip                                          40501   \n",
              "Region                                       South   \n",
              "User Name                                 ewfoster   \n",
              "Password                           5D.B4IGNkWJfG<~   \n",
              "\n",
              "                                                 3                         4  \n",
              "Emp ID                                      621375                    787549  \n",
              "Name Prefix                                   Mrs.                      Hon.  \n",
              "First Name                                  Briana                   Estella  \n",
              "Middle Initial                                   C                         L  \n",
              "Last Name                                Lancaster                    Potter  \n",
              "Gender                                           F                         F  \n",
              "E Mail                  briana.lancaster@yahoo.com  estella.potter@gmail.com  \n",
              "Father's Name                    Jeffrey Lancaster             Booker Potter  \n",
              "Mother's Name                     Shelby Lancaster            Katelyn Potter  \n",
              "Mother's Maiden Name                         Weiss                      Pate  \n",
              "Date of Birth                           11/24/1975                 3/13/1995  \n",
              "Time of Birth                          09:44:16 PM               09:30:28 PM  \n",
              "Age in Yrs.                                   41.7                     22.39  \n",
              "Weight in Kgs.                                  43                        58  \n",
              "Date of Joining                          2/25/2003                10/11/2016  \n",
              "Quarter of Joining                              Q1                        Q4  \n",
              "Half of Joining                                 H1                        H2  \n",
              "Year of Joining                               2003                      2016  \n",
              "Month of Joining                                 2                        10  \n",
              "Month Name of Joining                     February                   October  \n",
              "Short Month                                    Feb                       Oct  \n",
              "Day of Joining                                  25                        11  \n",
              "DOW of Joining                             Tuesday                   Tuesday  \n",
              "Short DOW                                      Tue                       Tue  \n",
              "Age in Company (Years)                       14.43                      0.79  \n",
              "Salary                                      142616                    135706  \n",
              "Last % Hike                                    16%                       11%  \n",
              "SSN                                    534-71-1053               644-29-6396  \n",
              "Phone No.                             219-623-8216              907-677-8486  \n",
              "Place Name                                 Munster                 Fairbanks  \n",
              "County                                        Lake      Fairbanks North Star  \n",
              "City                                       Munster                 Fairbanks  \n",
              "State                                           IN                        AK  \n",
              "Zip                                          46321                     99709  \n",
              "Region                                     Midwest                      West  \n",
              "User Name                              bclancaster                  elpotter  \n",
              "Password                                 I%?JDM;pW               j4jkEXfC&Rh  "
            ],
            "text/html": [
              "\n",
              "\n",
              "  <div id=\"df-5744eb63-4aa1-4bc4-90c9-6a818846f6e4\">\n",
              "    <div class=\"colab-df-container\">\n",
              "      <div>\n",
              "<style scoped>\n",
              "    .dataframe tbody tr th:only-of-type {\n",
              "        vertical-align: middle;\n",
              "    }\n",
              "\n",
              "    .dataframe tbody tr th {\n",
              "        vertical-align: top;\n",
              "    }\n",
              "\n",
              "    .dataframe thead th {\n",
              "        text-align: right;\n",
              "    }\n",
              "</style>\n",
              "<table border=\"1\" class=\"dataframe\">\n",
              "  <thead>\n",
              "    <tr style=\"text-align: right;\">\n",
              "      <th></th>\n",
              "      <th>0</th>\n",
              "      <th>1</th>\n",
              "      <th>2</th>\n",
              "      <th>3</th>\n",
              "      <th>4</th>\n",
              "    </tr>\n",
              "  </thead>\n",
              "  <tbody>\n",
              "    <tr>\n",
              "      <th>Emp ID</th>\n",
              "      <td>850297</td>\n",
              "      <td>304721</td>\n",
              "      <td>412317</td>\n",
              "      <td>621375</td>\n",
              "      <td>787549</td>\n",
              "    </tr>\n",
              "    <tr>\n",
              "      <th>Name Prefix</th>\n",
              "      <td>Ms.</td>\n",
              "      <td>Mr.</td>\n",
              "      <td>Drs.</td>\n",
              "      <td>Mrs.</td>\n",
              "      <td>Hon.</td>\n",
              "    </tr>\n",
              "    <tr>\n",
              "      <th>First Name</th>\n",
              "      <td>Shawna</td>\n",
              "      <td>Nathaniel</td>\n",
              "      <td>Elisabeth</td>\n",
              "      <td>Briana</td>\n",
              "      <td>Estella</td>\n",
              "    </tr>\n",
              "    <tr>\n",
              "      <th>Middle Initial</th>\n",
              "      <td>W</td>\n",
              "      <td>Z</td>\n",
              "      <td>W</td>\n",
              "      <td>C</td>\n",
              "      <td>L</td>\n",
              "    </tr>\n",
              "    <tr>\n",
              "      <th>Last Name</th>\n",
              "      <td>Buck</td>\n",
              "      <td>Burke</td>\n",
              "      <td>Foster</td>\n",
              "      <td>Lancaster</td>\n",
              "      <td>Potter</td>\n",
              "    </tr>\n",
              "    <tr>\n",
              "      <th>Gender</th>\n",
              "      <td>F</td>\n",
              "      <td>M</td>\n",
              "      <td>F</td>\n",
              "      <td>F</td>\n",
              "      <td>F</td>\n",
              "    </tr>\n",
              "    <tr>\n",
              "      <th>E Mail</th>\n",
              "      <td>shawna.buck@gmail.com</td>\n",
              "      <td>nathaniel.burke@walmart.com</td>\n",
              "      <td>elisabeth.foster@gmail.com</td>\n",
              "      <td>briana.lancaster@yahoo.com</td>\n",
              "      <td>estella.potter@gmail.com</td>\n",
              "    </tr>\n",
              "    <tr>\n",
              "      <th>Father's Name</th>\n",
              "      <td>Rosario Buck</td>\n",
              "      <td>Derrick Burke</td>\n",
              "      <td>Irwin Foster</td>\n",
              "      <td>Jeffrey Lancaster</td>\n",
              "      <td>Booker Potter</td>\n",
              "    </tr>\n",
              "    <tr>\n",
              "      <th>Mother's Name</th>\n",
              "      <td>Keisha Buck</td>\n",
              "      <td>Phoebe Burke</td>\n",
              "      <td>Janie Foster</td>\n",
              "      <td>Shelby Lancaster</td>\n",
              "      <td>Katelyn Potter</td>\n",
              "    </tr>\n",
              "    <tr>\n",
              "      <th>Mother's Maiden Name</th>\n",
              "      <td>Hendricks</td>\n",
              "      <td>Pugh</td>\n",
              "      <td>Delaney</td>\n",
              "      <td>Weiss</td>\n",
              "      <td>Pate</td>\n",
              "    </tr>\n",
              "    <tr>\n",
              "      <th>Date of Birth</th>\n",
              "      <td>12/12/1971</td>\n",
              "      <td>10/31/1993</td>\n",
              "      <td>11/26/1994</td>\n",
              "      <td>11/24/1975</td>\n",
              "      <td>3/13/1995</td>\n",
              "    </tr>\n",
              "    <tr>\n",
              "      <th>Time of Birth</th>\n",
              "      <td>06:34:47 AM</td>\n",
              "      <td>02:02:38 AM</td>\n",
              "      <td>03:48:27 PM</td>\n",
              "      <td>09:44:16 PM</td>\n",
              "      <td>09:30:28 PM</td>\n",
              "    </tr>\n",
              "    <tr>\n",
              "      <th>Age in Yrs.</th>\n",
              "      <td>45.66</td>\n",
              "      <td>23.76</td>\n",
              "      <td>22.68</td>\n",
              "      <td>41.7</td>\n",
              "      <td>22.39</td>\n",
              "    </tr>\n",
              "    <tr>\n",
              "      <th>Weight in Kgs.</th>\n",
              "      <td>44</td>\n",
              "      <td>52</td>\n",
              "      <td>42</td>\n",
              "      <td>43</td>\n",
              "      <td>58</td>\n",
              "    </tr>\n",
              "    <tr>\n",
              "      <th>Date of Joining</th>\n",
              "      <td>12/18/2010</td>\n",
              "      <td>4/25/2017</td>\n",
              "      <td>3/27/2017</td>\n",
              "      <td>2/25/2003</td>\n",
              "      <td>10/11/2016</td>\n",
              "    </tr>\n",
              "    <tr>\n",
              "      <th>Quarter of Joining</th>\n",
              "      <td>Q4</td>\n",
              "      <td>Q2</td>\n",
              "      <td>Q1</td>\n",
              "      <td>Q1</td>\n",
              "      <td>Q4</td>\n",
              "    </tr>\n",
              "    <tr>\n",
              "      <th>Half of Joining</th>\n",
              "      <td>H2</td>\n",
              "      <td>H1</td>\n",
              "      <td>H1</td>\n",
              "      <td>H1</td>\n",
              "      <td>H2</td>\n",
              "    </tr>\n",
              "    <tr>\n",
              "      <th>Year of Joining</th>\n",
              "      <td>2010</td>\n",
              "      <td>2017</td>\n",
              "      <td>2017</td>\n",
              "      <td>2003</td>\n",
              "      <td>2016</td>\n",
              "    </tr>\n",
              "    <tr>\n",
              "      <th>Month of Joining</th>\n",
              "      <td>12</td>\n",
              "      <td>4</td>\n",
              "      <td>3</td>\n",
              "      <td>2</td>\n",
              "      <td>10</td>\n",
              "    </tr>\n",
              "    <tr>\n",
              "      <th>Month Name of Joining</th>\n",
              "      <td>December</td>\n",
              "      <td>April</td>\n",
              "      <td>March</td>\n",
              "      <td>February</td>\n",
              "      <td>October</td>\n",
              "    </tr>\n",
              "    <tr>\n",
              "      <th>Short Month</th>\n",
              "      <td>Dec</td>\n",
              "      <td>Apr</td>\n",
              "      <td>Mar</td>\n",
              "      <td>Feb</td>\n",
              "      <td>Oct</td>\n",
              "    </tr>\n",
              "    <tr>\n",
              "      <th>Day of Joining</th>\n",
              "      <td>18</td>\n",
              "      <td>25</td>\n",
              "      <td>27</td>\n",
              "      <td>25</td>\n",
              "      <td>11</td>\n",
              "    </tr>\n",
              "    <tr>\n",
              "      <th>DOW of Joining</th>\n",
              "      <td>Saturday</td>\n",
              "      <td>Tuesday</td>\n",
              "      <td>Monday</td>\n",
              "      <td>Tuesday</td>\n",
              "      <td>Tuesday</td>\n",
              "    </tr>\n",
              "    <tr>\n",
              "      <th>Short DOW</th>\n",
              "      <td>Sat</td>\n",
              "      <td>Tue</td>\n",
              "      <td>Mon</td>\n",
              "      <td>Tue</td>\n",
              "      <td>Tue</td>\n",
              "    </tr>\n",
              "    <tr>\n",
              "      <th>Age in Company (Years)</th>\n",
              "      <td>6.61</td>\n",
              "      <td>0.26</td>\n",
              "      <td>0.34</td>\n",
              "      <td>14.43</td>\n",
              "      <td>0.79</td>\n",
              "    </tr>\n",
              "    <tr>\n",
              "      <th>Salary</th>\n",
              "      <td>119090</td>\n",
              "      <td>117991</td>\n",
              "      <td>161045</td>\n",
              "      <td>142616</td>\n",
              "      <td>135706</td>\n",
              "    </tr>\n",
              "    <tr>\n",
              "      <th>Last % Hike</th>\n",
              "      <td>17%</td>\n",
              "      <td>14%</td>\n",
              "      <td>28%</td>\n",
              "      <td>16%</td>\n",
              "      <td>11%</td>\n",
              "    </tr>\n",
              "    <tr>\n",
              "      <th>SSN</th>\n",
              "      <td>222-11-7603</td>\n",
              "      <td>550-99-9897</td>\n",
              "      <td>215-91-0004</td>\n",
              "      <td>534-71-1053</td>\n",
              "      <td>644-29-6396</td>\n",
              "    </tr>\n",
              "    <tr>\n",
              "      <th>Phone No.</th>\n",
              "      <td>702-771-7149</td>\n",
              "      <td>231-765-6923</td>\n",
              "      <td>270-749-4774</td>\n",
              "      <td>219-623-8216</td>\n",
              "      <td>907-677-8486</td>\n",
              "    </tr>\n",
              "    <tr>\n",
              "      <th>Place Name</th>\n",
              "      <td>Las Vegas</td>\n",
              "      <td>Irons</td>\n",
              "      <td>Lexington</td>\n",
              "      <td>Munster</td>\n",
              "      <td>Fairbanks</td>\n",
              "    </tr>\n",
              "    <tr>\n",
              "      <th>County</th>\n",
              "      <td>Clark</td>\n",
              "      <td>Lake</td>\n",
              "      <td>Fayette</td>\n",
              "      <td>Lake</td>\n",
              "      <td>Fairbanks North Star</td>\n",
              "    </tr>\n",
              "    <tr>\n",
              "      <th>City</th>\n",
              "      <td>Las Vegas</td>\n",
              "      <td>Irons</td>\n",
              "      <td>Lexington</td>\n",
              "      <td>Munster</td>\n",
              "      <td>Fairbanks</td>\n",
              "    </tr>\n",
              "    <tr>\n",
              "      <th>State</th>\n",
              "      <td>NV</td>\n",
              "      <td>MI</td>\n",
              "      <td>KY</td>\n",
              "      <td>IN</td>\n",
              "      <td>AK</td>\n",
              "    </tr>\n",
              "    <tr>\n",
              "      <th>Zip</th>\n",
              "      <td>89128</td>\n",
              "      <td>49644</td>\n",
              "      <td>40501</td>\n",
              "      <td>46321</td>\n",
              "      <td>99709</td>\n",
              "    </tr>\n",
              "    <tr>\n",
              "      <th>Region</th>\n",
              "      <td>West</td>\n",
              "      <td>Midwest</td>\n",
              "      <td>South</td>\n",
              "      <td>Midwest</td>\n",
              "      <td>West</td>\n",
              "    </tr>\n",
              "    <tr>\n",
              "      <th>User Name</th>\n",
              "      <td>swbuck</td>\n",
              "      <td>nzburke</td>\n",
              "      <td>ewfoster</td>\n",
              "      <td>bclancaster</td>\n",
              "      <td>elpotter</td>\n",
              "    </tr>\n",
              "    <tr>\n",
              "      <th>Password</th>\n",
              "      <td>ja8?k3BTF^]o@&lt;&amp;</td>\n",
              "      <td>tPA@4Wh9Ja$+Ln</td>\n",
              "      <td>5D.B4IGNkWJfG&lt;~</td>\n",
              "      <td>I%?JDM;pW</td>\n",
              "      <td>j4jkEXfC&amp;Rh</td>\n",
              "    </tr>\n",
              "  </tbody>\n",
              "</table>\n",
              "</div>\n",
              "      <button class=\"colab-df-convert\" onclick=\"convertToInteractive('df-5744eb63-4aa1-4bc4-90c9-6a818846f6e4')\"\n",
              "              title=\"Convert this dataframe to an interactive table.\"\n",
              "              style=\"display:none;\">\n",
              "\n",
              "  <svg xmlns=\"http://www.w3.org/2000/svg\" height=\"24px\"viewBox=\"0 0 24 24\"\n",
              "       width=\"24px\">\n",
              "    <path d=\"M0 0h24v24H0V0z\" fill=\"none\"/>\n",
              "    <path d=\"M18.56 5.44l.94 2.06.94-2.06 2.06-.94-2.06-.94-.94-2.06-.94 2.06-2.06.94zm-11 1L8.5 8.5l.94-2.06 2.06-.94-2.06-.94L8.5 2.5l-.94 2.06-2.06.94zm10 10l.94 2.06.94-2.06 2.06-.94-2.06-.94-.94-2.06-.94 2.06-2.06.94z\"/><path d=\"M17.41 7.96l-1.37-1.37c-.4-.4-.92-.59-1.43-.59-.52 0-1.04.2-1.43.59L10.3 9.45l-7.72 7.72c-.78.78-.78 2.05 0 2.83L4 21.41c.39.39.9.59 1.41.59.51 0 1.02-.2 1.41-.59l7.78-7.78 2.81-2.81c.8-.78.8-2.07 0-2.86zM5.41 20L4 18.59l7.72-7.72 1.47 1.35L5.41 20z\"/>\n",
              "  </svg>\n",
              "      </button>\n",
              "\n",
              "\n",
              "\n",
              "    <div id=\"df-0ffb9a68-3632-48b7-8ef4-fc6eb9a2ef17\">\n",
              "      <button class=\"colab-df-quickchart\" onclick=\"quickchart('df-0ffb9a68-3632-48b7-8ef4-fc6eb9a2ef17')\"\n",
              "              title=\"Suggest charts.\"\n",
              "              style=\"display:none;\">\n",
              "\n",
              "<svg xmlns=\"http://www.w3.org/2000/svg\" height=\"24px\"viewBox=\"0 0 24 24\"\n",
              "     width=\"24px\">\n",
              "    <g>\n",
              "        <path d=\"M19 3H5c-1.1 0-2 .9-2 2v14c0 1.1.9 2 2 2h14c1.1 0 2-.9 2-2V5c0-1.1-.9-2-2-2zM9 17H7v-7h2v7zm4 0h-2V7h2v10zm4 0h-2v-4h2v4z\"/>\n",
              "    </g>\n",
              "</svg>\n",
              "      </button>\n",
              "    </div>\n",
              "\n",
              "<style>\n",
              "  .colab-df-quickchart {\n",
              "    background-color: #E8F0FE;\n",
              "    border: none;\n",
              "    border-radius: 50%;\n",
              "    cursor: pointer;\n",
              "    display: none;\n",
              "    fill: #1967D2;\n",
              "    height: 32px;\n",
              "    padding: 0 0 0 0;\n",
              "    width: 32px;\n",
              "  }\n",
              "\n",
              "  .colab-df-quickchart:hover {\n",
              "    background-color: #E2EBFA;\n",
              "    box-shadow: 0px 1px 2px rgba(60, 64, 67, 0.3), 0px 1px 3px 1px rgba(60, 64, 67, 0.15);\n",
              "    fill: #174EA6;\n",
              "  }\n",
              "\n",
              "  [theme=dark] .colab-df-quickchart {\n",
              "    background-color: #3B4455;\n",
              "    fill: #D2E3FC;\n",
              "  }\n",
              "\n",
              "  [theme=dark] .colab-df-quickchart:hover {\n",
              "    background-color: #434B5C;\n",
              "    box-shadow: 0px 1px 3px 1px rgba(0, 0, 0, 0.15);\n",
              "    filter: drop-shadow(0px 1px 2px rgba(0, 0, 0, 0.3));\n",
              "    fill: #FFFFFF;\n",
              "  }\n",
              "</style>\n",
              "\n",
              "    <script>\n",
              "      async function quickchart(key) {\n",
              "        const containerElement = document.querySelector('#' + key);\n",
              "        const charts = await google.colab.kernel.invokeFunction(\n",
              "            'suggestCharts', [key], {});\n",
              "      }\n",
              "    </script>\n",
              "\n",
              "      <script>\n",
              "\n",
              "function displayQuickchartButton(domScope) {\n",
              "  let quickchartButtonEl =\n",
              "    domScope.querySelector('#df-0ffb9a68-3632-48b7-8ef4-fc6eb9a2ef17 button.colab-df-quickchart');\n",
              "  quickchartButtonEl.style.display =\n",
              "    google.colab.kernel.accessAllowed ? 'block' : 'none';\n",
              "}\n",
              "\n",
              "        displayQuickchartButton(document);\n",
              "      </script>\n",
              "      <style>\n",
              "    .colab-df-container {\n",
              "      display:flex;\n",
              "      flex-wrap:wrap;\n",
              "      gap: 12px;\n",
              "    }\n",
              "\n",
              "    .colab-df-convert {\n",
              "      background-color: #E8F0FE;\n",
              "      border: none;\n",
              "      border-radius: 50%;\n",
              "      cursor: pointer;\n",
              "      display: none;\n",
              "      fill: #1967D2;\n",
              "      height: 32px;\n",
              "      padding: 0 0 0 0;\n",
              "      width: 32px;\n",
              "    }\n",
              "\n",
              "    .colab-df-convert:hover {\n",
              "      background-color: #E2EBFA;\n",
              "      box-shadow: 0px 1px 2px rgba(60, 64, 67, 0.3), 0px 1px 3px 1px rgba(60, 64, 67, 0.15);\n",
              "      fill: #174EA6;\n",
              "    }\n",
              "\n",
              "    [theme=dark] .colab-df-convert {\n",
              "      background-color: #3B4455;\n",
              "      fill: #D2E3FC;\n",
              "    }\n",
              "\n",
              "    [theme=dark] .colab-df-convert:hover {\n",
              "      background-color: #434B5C;\n",
              "      box-shadow: 0px 1px 3px 1px rgba(0, 0, 0, 0.15);\n",
              "      filter: drop-shadow(0px 1px 2px rgba(0, 0, 0, 0.3));\n",
              "      fill: #FFFFFF;\n",
              "    }\n",
              "  </style>\n",
              "\n",
              "      <script>\n",
              "        const buttonEl =\n",
              "          document.querySelector('#df-5744eb63-4aa1-4bc4-90c9-6a818846f6e4 button.colab-df-convert');\n",
              "        buttonEl.style.display =\n",
              "          google.colab.kernel.accessAllowed ? 'block' : 'none';\n",
              "\n",
              "        async function convertToInteractive(key) {\n",
              "          const element = document.querySelector('#df-5744eb63-4aa1-4bc4-90c9-6a818846f6e4');\n",
              "          const dataTable =\n",
              "            await google.colab.kernel.invokeFunction('convertToInteractive',\n",
              "                                                     [key], {});\n",
              "          if (!dataTable) return;\n",
              "\n",
              "          const docLinkHtml = 'Like what you see? Visit the ' +\n",
              "            '<a target=\"_blank\" href=https://colab.research.google.com/notebooks/data_table.ipynb>data table notebook</a>'\n",
              "            + ' to learn more about interactive tables.';\n",
              "          element.innerHTML = '';\n",
              "          dataTable['output_type'] = 'display_data';\n",
              "          await google.colab.output.renderOutput(dataTable, element);\n",
              "          const docLink = document.createElement('div');\n",
              "          docLink.innerHTML = docLinkHtml;\n",
              "          element.appendChild(docLink);\n",
              "        }\n",
              "      </script>\n",
              "    </div>\n",
              "  </div>\n"
            ]
          },
          "metadata": {},
          "execution_count": 12
        }
      ]
    },
    {
      "cell_type": "markdown",
      "source": [],
      "metadata": {
        "id": "Fs2o0V4unoOT"
      }
    },
    {
      "cell_type": "markdown",
      "metadata": {
        "id": "n_fTzTbPuW9a"
      },
      "source": [
        "## 1. Which month saw the highest joining of the employees\n",
        "\n",
        "   function name: max_joinings_month()\n",
        "   \n",
        "   inputs: DataFrame\n",
        "\n",
        "   outputs: str"
      ]
    },
    {
      "cell_type": "code",
      "execution_count": 24,
      "metadata": {
        "id": "Ol33tFG-uW9a",
        "colab": {
          "base_uri": "https://localhost:8080/",
          "height": 36
        },
        "outputId": "c2bb3cdc-1d27-4e3e-89fb-b4cec3f5136f"
      },
      "outputs": [
        {
          "output_type": "execute_result",
          "data": {
            "text/plain": [
              "'The month that faced highest inductions is May which is 4th month'"
            ],
            "application/vnd.google.colaboratory.intrinsic+json": {
              "type": "string"
            }
          },
          "metadata": {},
          "execution_count": 24
        }
      ],
      "source": [
        "def max_joining(df):\n",
        "  highest_month = df['Month of Joining'].value_counts()\n",
        "  high = highest_month.idxmax()\n",
        "  months = ['January','Feb','March','Apr','May','Jun','Jul','Aug',\n",
        "            'Sep','Oct','Nov','Dec']\n",
        "  month = months[high]\n",
        "  return f\"The month that faced highest inductions is {month} which is {high}th month\"\n",
        "\n",
        "max_joining(df)"
      ]
    },
    {
      "cell_type": "markdown",
      "metadata": {
        "id": "rVE_BdqIuW9b"
      },
      "source": [
        "## 2. What is the mean salary is the state KS\n",
        "\n",
        "   function name: mean_ks_salary()\n",
        "   \n",
        "   inputs: DataFrame\n",
        "\n",
        "   outputs: float"
      ]
    },
    {
      "cell_type": "code",
      "execution_count": 32,
      "metadata": {
        "id": "UpoU-UakuW9b",
        "colab": {
          "base_uri": "https://localhost:8080/",
          "height": 36
        },
        "outputId": "e745c1df-66e2-4b6a-e618-238f4f28f802"
      },
      "outputs": [
        {
          "output_type": "execute_result",
          "data": {
            "text/plain": [
              "'Mean salary in the KS State is 104225.45454545454'"
            ],
            "application/vnd.google.colaboratory.intrinsic+json": {
              "type": "string"
            }
          },
          "metadata": {},
          "execution_count": 32
        }
      ],
      "source": [
        "def mean_Ks_salary(df):\n",
        "  rows = df[df['State']=='KS']\n",
        "  mean_ks_salary = rows['Salary'].mean()\n",
        "  return f\"Mean salary in the KS State is {mean_ks_salary}\"\n",
        "\n",
        "mean_Ks_salary(df)"
      ]
    },
    {
      "cell_type": "markdown",
      "metadata": {
        "id": "Vgd5Fb5CuW9c"
      },
      "source": [
        "## 3. Which Region has highest mean salary\n",
        "\n",
        "   function name: max_mean_salary_region()\n",
        "\n",
        "   inputs: DataFrame\n",
        "\n",
        "   outputs: str"
      ]
    },
    {
      "cell_type": "code",
      "execution_count": 50,
      "metadata": {
        "id": "7HOPwotyuW9c",
        "colab": {
          "base_uri": "https://localhost:8080/",
          "height": 36
        },
        "outputId": "bc2cb255-d8b6-4d9e-d88a-315873e7e816"
      },
      "outputs": [
        {
          "output_type": "execute_result",
          "data": {
            "text/plain": [
              "'Midwest'"
            ],
            "application/vnd.google.colaboratory.intrinsic+json": {
              "type": "string"
            }
          },
          "metadata": {},
          "execution_count": 50
        }
      ],
      "source": [
        "def max_mean_salary_region(df):\n",
        "\n",
        "  mean_salary_by_region = df.groupby('Region')['Salary'].mean()\n",
        "  highest_mean_salary_region = mean_salary_by_region.idxmax()\n",
        "  value = highest_mean_salary_region.value\n",
        "  return highest_mean_salary_region\n",
        "\n",
        "\n",
        "max_mean_salary_region(df)"
      ]
    },
    {
      "cell_type": "code",
      "source": [
        "def max_mean_salary_region(df):\n",
        "  mean_salary_by_region = df.groupby('Region')['Salary'].mean()\n",
        "  region = mean_salary_by_region.idxmax()\n",
        "  value = mean_salary_by_region.loc[region]\n",
        "  return f\"Region with highest salry is {region} with mean income of {value}\"\n",
        "\n",
        "max_mean_salary_region(df)"
      ],
      "metadata": {
        "colab": {
          "base_uri": "https://localhost:8080/",
          "height": 36
        },
        "id": "reZlAuPsvpl7",
        "outputId": "b7a33e99-8f2a-4c49-c787-f5e3f9b3ecdc"
      },
      "execution_count": 53,
      "outputs": [
        {
          "output_type": "execute_result",
          "data": {
            "text/plain": [
              "'Region with highest salry is Midwest with mean income of 122633.6456140351'"
            ],
            "application/vnd.google.colaboratory.intrinsic+json": {
              "type": "string"
            }
          },
          "metadata": {},
          "execution_count": 53
        }
      ]
    },
    {
      "cell_type": "markdown",
      "metadata": {
        "id": "wawx6nHmuW9d"
      },
      "source": [
        "## 4. Which region has lowest mean salary\n",
        "\n",
        "   function name: min_mean_salary_region()\n",
        "\n",
        "   inputs: DataFrame\n",
        "\n",
        "   outputs: str"
      ]
    },
    {
      "cell_type": "code",
      "execution_count": 54,
      "metadata": {
        "id": "dH61IHpFuW9d",
        "colab": {
          "base_uri": "https://localhost:8080/",
          "height": 36
        },
        "outputId": "52f35e57-4a7b-4fb3-f3a8-a5e42076821f"
      },
      "outputs": [
        {
          "output_type": "execute_result",
          "data": {
            "text/plain": [
              "'Region with lowest salry is West with mean income of 118910.1975308642'"
            ],
            "application/vnd.google.colaboratory.intrinsic+json": {
              "type": "string"
            }
          },
          "metadata": {},
          "execution_count": 54
        }
      ],
      "source": [
        "def max_mean_salary_region(df):\n",
        "  mean_salary_by_region = df.groupby('Region')['Salary'].mean()\n",
        "  region = mean_salary_by_region.idxmin()\n",
        "  value = mean_salary_by_region.loc[region]\n",
        "  return f\"Region with lowest salry is {region} with mean income of {value}\"\n",
        "\n",
        "max_mean_salary_region(df)"
      ]
    },
    {
      "cell_type": "markdown",
      "metadata": {
        "id": "MSpzMJpPuW9d"
      },
      "source": [
        "## 5. Which City has highest mean weight\n",
        "\n",
        "   function name: max_mean_weight_city()\n",
        "\n",
        "   inputs: DataFrame\n",
        "\n",
        "   outputs: str"
      ]
    },
    {
      "cell_type": "code",
      "execution_count": 58,
      "metadata": {
        "id": "m2gP7FpMuW9e",
        "colab": {
          "base_uri": "https://localhost:8080/",
          "height": 36
        },
        "outputId": "83895ef8-0f31-4778-e582-875d1edefdaf"
      },
      "outputs": [
        {
          "output_type": "execute_result",
          "data": {
            "text/plain": [
              "'Region with highest weight is Conroe with mean weight of 90.0 kgs'"
            ],
            "application/vnd.google.colaboratory.intrinsic+json": {
              "type": "string"
            }
          },
          "metadata": {},
          "execution_count": 58
        }
      ],
      "source": [
        "def max_mean_weight_city(df):\n",
        "  mean_salary_by_region = df.groupby('City')['Weight in Kgs.'].mean()\n",
        "  city = mean_salary_by_region.idxmax()\n",
        "  value = mean_salary_by_region.loc[city]\n",
        "  return f\"Region with highest weight is {city} with mean weight of {value} kgs\"\n",
        "\n",
        "max_mean_weight_city(df)"
      ]
    },
    {
      "cell_type": "markdown",
      "metadata": {
        "id": "amq4sSZ5uW9e"
      },
      "source": [
        "## 6. What is the difference between mean salary of Doctors and Professors\n",
        "\n",
        "   function name: dr_prof_mean_salary_diff()\n",
        "\n",
        "   inputs: DataFrame\n",
        "\n",
        "   outputs: float"
      ]
    },
    {
      "cell_type": "code",
      "source": [
        "doctors_df = df[df['Name Prefix'].str.contains('Dr.')]\n",
        "mean_salry_doctors = doctors_df['Salary'].mean()\n",
        "\n",
        "professors_df = df[df['Name Prefix'].str.contains('Prof.')]\n",
        "mean_salary_professors = professors_df['Salary'].mean()\n",
        "\n",
        "difference_between_doctor_professor = mean_salary_professors - mean_salry_doctors\n",
        "print(difference_between_doctor_professor)\n"
      ],
      "metadata": {
        "colab": {
          "base_uri": "https://localhost:8080/"
        },
        "id": "Qqj3lezNx2Sw",
        "outputId": "11b4c140-ae52-4650-804a-65fd0e1a84d1"
      },
      "execution_count": 82,
      "outputs": [
        {
          "output_type": "stream",
          "name": "stdout",
          "text": [
            "2635.981785063763\n"
          ]
        }
      ]
    },
    {
      "cell_type": "code",
      "execution_count": null,
      "metadata": {
        "id": "nXuEdsLBuW9f"
      },
      "outputs": [],
      "source": []
    },
    {
      "cell_type": "markdown",
      "metadata": {
        "id": "WCgvbyRHuW9f"
      },
      "source": [
        "## 7. How many female use yahoo\n",
        "\n",
        "   function name: females_with_yahoo()\n",
        "\n",
        "   inputs: DataFrame\n",
        "\n",
        "   outputs: int"
      ]
    },
    {
      "cell_type": "code",
      "execution_count": 74,
      "metadata": {
        "id": "z17LU2IVuW9f",
        "colab": {
          "base_uri": "https://localhost:8080/",
          "height": 36
        },
        "outputId": "a0bf2463-d105-405f-8dcc-4a078dd3a15a"
      },
      "outputs": [
        {
          "output_type": "execute_result",
          "data": {
            "text/plain": [
              "'69 females use yahoo'"
            ],
            "application/vnd.google.colaboratory.intrinsic+json": {
              "type": "string"
            }
          },
          "metadata": {},
          "execution_count": 74
        }
      ],
      "source": [
        "def females_with_yahoo(df):\n",
        "\n",
        "  female_users = df[df['Gender'] == 'F']\n",
        "  yahoo_female_users = female_users[female_users['E Mail'].str.contains('yahoo', case=False)].shape[0]\n",
        "  return f\"{yahoo_female_users} females use yahoo\"\n",
        "\n",
        "females_with_yahoo(df)"
      ]
    },
    {
      "cell_type": "markdown",
      "metadata": {
        "id": "LRx_pxOPuW9g"
      },
      "source": [
        "## 8. How many Doctors use gmail\n",
        "\n",
        "   function name: doctors_with_gmail()\n",
        "\n",
        "   inputs: DataFrame\n",
        "\n",
        "   outputs: int"
      ]
    },
    {
      "cell_type": "code",
      "execution_count": 83,
      "metadata": {
        "id": "58Qmeg9nuW9g",
        "colab": {
          "base_uri": "https://localhost:8080/",
          "height": 36
        },
        "outputId": "8403abf9-96f4-47f3-92a9-89378c68ad4c"
      },
      "outputs": [
        {
          "output_type": "execute_result",
          "data": {
            "text/plain": [
              "'42 doctors use gmail'"
            ],
            "application/vnd.google.colaboratory.intrinsic+json": {
              "type": "string"
            }
          },
          "metadata": {},
          "execution_count": 83
        }
      ],
      "source": [
        "def doctors_with_gmail(df):\n",
        "  doctors_df = df[df['Name Prefix'].str.contains('Dr.')]\n",
        "  gmail_doctors_count = doctors_df[doctors_df['E Mail'].str.contains('gmail', case=False)].shape[0]\n",
        "  return f\"{gmail_doctors_count} doctors use gmail\"\n",
        "\n",
        "doctors_with_gmail(df)"
      ]
    },
    {
      "cell_type": "markdown",
      "metadata": {
        "id": "wAMZIWg5uW9h"
      },
      "source": [
        "## 9. What is the password of the youngest male\n",
        "\n",
        "   function name: youngest_male_password()\n",
        "\n",
        "   inputs: DataFrame\n",
        "\n",
        "   outputs: str"
      ]
    },
    {
      "cell_type": "code",
      "execution_count": 103,
      "metadata": {
        "id": "LMs7ZxjRuW9h",
        "colab": {
          "base_uri": "https://localhost:8080/",
          "height": 36
        },
        "outputId": "8e809e81-d7c5-4f57-ab38-297b88e89054"
      },
      "outputs": [
        {
          "output_type": "execute_result",
          "data": {
            "text/plain": [
              "' youngest males have password 127       xPr\\\\aGPTQ#v\\n945    4FZyXCh^&{!Q8u\\nName: Password, dtype: object'"
            ],
            "application/vnd.google.colaboratory.intrinsic+json": {
              "type": "string"
            }
          },
          "metadata": {},
          "execution_count": 103
        }
      ],
      "source": [
        "def youngest_male_password(df):\n",
        "  df_male = df[df['Gender'] == 'M']\n",
        "  min_age = df_male['Age in Yrs.'].min()\n",
        "  df_min_age = df_male[df_male['Age in Yrs.'] == min_age]\n",
        "  password = df_min_age['Password']\n",
        "  return f\" youngest males have password {password}\"\n",
        "\n",
        "youngest_male_password(df)"
      ]
    },
    {
      "cell_type": "code",
      "source": [],
      "metadata": {
        "id": "ndlCzNQZ5klZ"
      },
      "execution_count": null,
      "outputs": []
    }
  ],
  "metadata": {
    "kernelspec": {
      "display_name": "unet_ml11",
      "language": "python",
      "name": "unet_ml11"
    },
    "language_info": {
      "codemirror_mode": {
        "name": "ipython",
        "version": 3
      },
      "file_extension": ".py",
      "mimetype": "text/x-python",
      "name": "python",
      "nbconvert_exporter": "python",
      "pygments_lexer": "ipython3",
      "version": "3.6.9"
    },
    "colab": {
      "provenance": []
    }
  },
  "nbformat": 4,
  "nbformat_minor": 0
}
